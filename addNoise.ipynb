{
  "nbformat": 4,
  "nbformat_minor": 0,
  "metadata": {
    "colab": {
      "name": "addNoise.ipynb",
      "provenance": [],
      "collapsed_sections": []
    },
    "kernelspec": {
      "name": "python3",
      "display_name": "Python 3"
    }
  },
  "cells": [
    {
      "cell_type": "code",
      "metadata": {
        "id": "5ESgHcgcOegg",
        "colab_type": "code",
        "cellView": "both",
        "outputId": "5bbd88aa-7ce0-44f8-aa80-c4fdc04a2c85",
        "colab": {
          "base_uri": "https://localhost:8080/",
          "height": 34
        }
      },
      "source": [
        "#@title    import drive\n",
        "from google.colab import drive\n",
        "drive.mount('/content/drive')"
      ],
      "execution_count": 0,
      "outputs": [
        {
          "output_type": "stream",
          "text": [
            "Drive already mounted at /content/drive; to attempt to forcibly remount, call drive.mount(\"/content/drive\", force_remount=True).\n"
          ],
          "name": "stdout"
        }
      ]
    },
    {
      "cell_type": "code",
      "metadata": {
        "id": "FMTsMl8PowqP",
        "colab_type": "code",
        "outputId": "0aafa06f-da1d-4c94-c88e-969aaf729ff9",
        "colab": {
          "base_uri": "https://localhost:8080/",
          "height": 187
        }
      },
      "source": [
        "!apt install octave\n",
        "!apt install octave-image\n",
        "#img_dir =  \"/content/drive/My Drive/sarseg/Data/complete_dataset/crop/images/austin100.tif\""
      ],
      "execution_count": 0,
      "outputs": [
        {
          "output_type": "stream",
          "text": [
            "Reading package lists... Done\n",
            "Building dependency tree       \n",
            "Reading state information... Done\n",
            "octave is already the newest version (4.2.2-1ubuntu1).\n",
            "0 upgraded, 0 newly installed, 0 to remove and 25 not upgraded.\n",
            "Reading package lists... Done\n",
            "Building dependency tree       \n",
            "Reading state information... Done\n",
            "octave-image is already the newest version (2.6.2-5).\n",
            "0 upgraded, 0 newly installed, 0 to remove and 25 not upgraded.\n"
          ],
          "name": "stdout"
        }
      ]
    },
    {
      "cell_type": "code",
      "metadata": {
        "id": "4fHCysd4ysGy",
        "colab_type": "code",
        "outputId": "a75f010c-96b4-483f-d4f7-dea0fb8fea5a",
        "colab": {
          "base_uri": "https://localhost:8080/",
          "height": 102
        }
      },
      "source": [
        "!octave --eval \"pkg list\""
      ],
      "execution_count": 0,
      "outputs": [
        {
          "output_type": "stream",
          "text": [
            "octave: X11 DISPLAY environment variable not set\n",
            "octave: disabling GUI features\n",
            "Package Name  | Version | Installation directory\n",
            "--------------+---------+-----------------------\n",
            "       image  |   2.6.2 | /usr/share/octave/packages/image-2.6.2\n"
          ],
          "name": "stdout"
        }
      ]
    },
    {
      "cell_type": "code",
      "metadata": {
        "id": "POB3r24AgTbo",
        "colab_type": "code",
        "colab": {}
      },
      "source": [
        ""
      ],
      "execution_count": 0,
      "outputs": []
    },
    {
      "cell_type": "code",
      "metadata": {
        "id": "SYTAD1DWpcq1",
        "colab_type": "code",
        "outputId": "702cbb66-dd68-4532-a068-3af5473fb64b",
        "colab": {
          "base_uri": "https://localhost:8080/",
          "height": 34
        }
      },
      "source": [
        "%%writefile ADD.m\n",
        "\n",
        "clear all;\n",
        "close all;\n",
        "L = 2;\n",
        "path='/content/drive/My Drive/sarseg/Data/complete_dataset/crop/images/';\n",
        "files=dir([path '*.tif']);\n",
        "for i=1:100\n",
        "  a=imread([path files(i).name]);\n",
        "  J = addnoise(a,L);\n",
        "  K = uint8(J);\n",
        "  final = (0.298936 * K(:,:,1) + 0.587043 * K(:,:,2) + 0.114021 * K(:,:,3));\n",
        "  imwrite(final,[\"/content/drive/My Drive/sarseg/Data/complete_dataset/crop/noisy images/\" files(i).name]);\n",
        "end             "
      ],
      "execution_count": 0,
      "outputs": [
        {
          "output_type": "stream",
          "text": [
            "Overwriting ADD.m\n"
          ],
          "name": "stdout"
        }
      ]
    },
    {
      "cell_type": "code",
      "metadata": {
        "id": "BNOgGphZ8fCq",
        "colab_type": "code",
        "outputId": "e55ef03e-f208-4ebd-f61a-8590489e1756",
        "colab": {
          "base_uri": "https://localhost:8080/",
          "height": 34
        }
      },
      "source": [
        "%%writefile ADD.m\n",
        "\n",
        "clear all;\n",
        "close all;\n",
        "L = 2;\n",
        "path='/content/drive/My Drive/sarseg/Data/complete_dataset/crop/noisy images val/austin898.tif';\n",
        "a=imread(path);\n",
        "J = addnoise(a,L);\n",
        "K = uint8(J);\n",
        "imwrite(K,[path]);          "
      ],
      "execution_count": 0,
      "outputs": [
        {
          "output_type": "stream",
          "text": [
            "Overwriting ADD.m\n"
          ],
          "name": "stdout"
        }
      ]
    },
    {
      "cell_type": "code",
      "metadata": {
        "id": "MCc5_1BBvNcZ",
        "colab_type": "code",
        "outputId": "9d48eb7f-7e91-4ed5-c0c5-8ce7baf03c62",
        "colab": {
          "base_uri": "https://localhost:8080/",
          "height": 34
        }
      },
      "source": [
        "%%writefile addnoise.m\n",
        "\n",
        "function J = addnoise(I,L)\n",
        "[m, n] = size(I);\n",
        "I = double(I);\n",
        "no = gamrnd(L,1/L,m,n/3, 3);\n",
        "J = no.*I;\n",
        "end"
      ],
      "execution_count": 0,
      "outputs": [
        {
          "output_type": "stream",
          "text": [
            "Overwriting addnoise.m\n"
          ],
          "name": "stdout"
        }
      ]
    },
    {
      "cell_type": "code",
      "metadata": {
        "id": "fmMU6KdwpuP9",
        "colab_type": "code",
        "outputId": "9f51bac7-028e-4125-d500-cf864e19f99a",
        "colab": {
          "base_uri": "https://localhost:8080/",
          "height": 51
        }
      },
      "source": [
        "!octave ADD.m"
      ],
      "execution_count": 0,
      "outputs": [
        {
          "output_type": "stream",
          "text": [
            "octave: X11 DISPLAY environment variable not set\n",
            "octave: disabling GUI features\n"
          ],
          "name": "stdout"
        }
      ]
    }
  ]
}