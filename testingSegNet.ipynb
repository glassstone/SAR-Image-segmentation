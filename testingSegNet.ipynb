{
  "nbformat": 4,
  "nbformat_minor": 0,
  "metadata": {
    "colab": {
      "name": "testingSegNet.ipynb",
      "provenance": [],
      "collapsed_sections": [],
      "machine_shape": "hm"
    },
    "kernelspec": {
      "name": "python3",
      "display_name": "Python 3"
    }
  },
  "cells": [
    {
      "cell_type": "code",
      "metadata": {
        "id": "5ESgHcgcOegg",
        "colab_type": "code",
        "cellView": "form",
        "colab": {}
      },
      "source": [
        "#@title    import drive\n",
        "from google.colab import drive\n",
        "drive.mount('/content/drive')"
      ],
      "execution_count": 0,
      "outputs": []
    },
    {
      "cell_type": "code",
      "metadata": {
        "id": "px2TgmLVuMFh",
        "colab_type": "code",
        "colab": {}
      },
      "source": [
        "  %tensorflow_version 1.14\n",
        "import tensorflow.compat.v1 as tf\n",
        "tf.disable_v2_behavior()\n"
      ],
      "execution_count": 0,
      "outputs": []
    },
    {
      "cell_type": "code",
      "metadata": {
        "id": "mNUS4FZrcTKw",
        "colab_type": "code",
        "cellView": "form",
        "colab": {}
      },
      "source": [
        "#@title generator\n",
        "#generator.py\n",
        "\n",
        "import cv2\n",
        "import numpy as np\n",
        "\n",
        "from keras.preprocessing.image import img_to_array\n",
        "\n",
        "\n",
        "def category_label(labels, dims, n_labels):\n",
        "    x = np.zeros([dims[0], dims[1], n_labels])\n",
        "    #print(labels)\n",
        "    for i in range(dims[0]):\n",
        "        for j in range(dims[1]):\n",
        "          x[i, j, (int)(labels[i][j]/255)] = 1\n",
        "    x = x.reshape(dims[0] * dims[1], n_labels)\n",
        "    return x\n",
        "\n",
        "\n",
        "def data_gen_small(img_dir, mask_dir, lists, batch_size, dims, n_labels):\n",
        "    while True:\n",
        "        ix = np.random.choice(np.arange(len(lists)), batch_size)\n",
        "        imgs = []\n",
        "        labels = []\n",
        "        for i in ix:\n",
        "            # images\n",
        "            img_path = img_dir + lists.iloc[i, 0] + '.tif'\n",
        "#            print( img_path )\n",
        "            original_img = cv2.imread(img_path)[:, :, ::-1]\n",
        "            resized_img = cv2.resize(original_img, (dims[0], dims[1]))\n",
        "            array_img = img_to_array(resized_img)\n",
        "#            print(array_img.size)\n",
        "            imgs.append(array_img)\n",
        "            # masks\n",
        "            original_mask = cv2.imread(mask_dir + lists.iloc[i, 0] + '.tif')\n",
        "            resized_mask = cv2.resize(original_mask, (dims[0], dims[1]))\n",
        "#            print(resized_mask.shape)\n",
        "            array_mask = category_label(resized_mask[:, :, 0], dims, n_labels)\n",
        "            labels.append(array_mask)\n",
        "        imgs = np.array(imgs)\n",
        "        labels = np.array(labels)\n",
        "        yield imgs, labels"
      ],
      "execution_count": 0,
      "outputs": []
    },
    {
      "cell_type": "code",
      "metadata": {
        "id": "Z7jt3PWc0-Mo",
        "colab_type": "code",
        "cellView": "form",
        "colab": {}
      },
      "source": [
        "#@title   layers\n",
        "#layers.py\n",
        "\n",
        "from tensorflow.keras import backend as K\n",
        "from keras.layers import Layer\n",
        "\n",
        "\n",
        "class MaxPoolingWithArgmax2D(Layer):\n",
        "\n",
        "    def __init__(\n",
        "            self,\n",
        "            pool_size=(2, 2),\n",
        "            strides=(2, 2),\n",
        "            padding='same',\n",
        "            **kwargs):\n",
        "        super(MaxPoolingWithArgmax2D, self).__init__(**kwargs)\n",
        "        self.padding = padding\n",
        "        self.pool_size = pool_size\n",
        "        self.strides = strides\n",
        "\n",
        "    def call(self, inputs, **kwargs):\n",
        "        padding = self.padding\n",
        "        pool_size = self.pool_size\n",
        "        strides = self.strides\n",
        "        if K.backend() == 'tensorflow':\n",
        "            ksize = [1, pool_size[0], pool_size[1], 1]\n",
        "            padding = padding.upper()\n",
        "            strides = [1, strides[0], strides[1], 1]\n",
        "            output, argmax = tf.nn.max_pool_with_argmax(\n",
        "                    inputs,\n",
        "                    ksize=ksize,\n",
        "                    strides=strides,\n",
        "                    padding=padding)\n",
        "        else:\n",
        "            errmsg = '{} backend is not supported for layer {}'.format(\n",
        "                    K.backend(), type(self).__name__)\n",
        "            raise NotImplementedError(errmsg)\n",
        "        argmax = K.cast(argmax, K.floatx())\n",
        "        return [output, argmax]\n",
        "\n",
        "    def compute_output_shape(self, input_shape):\n",
        "        ratio = (1, 2, 2, 1)\n",
        "        output_shape = [\n",
        "                dim//ratio[idx]\n",
        "                if dim is not None else None\n",
        "                for idx, dim in enumerate(input_shape)]\n",
        "        output_shape = tuple(output_shape)\n",
        "        return [output_shape, output_shape]\n",
        "\n",
        "    def compute_mask(self, inputs, mask=None):\n",
        "        return 2 * [None]\n",
        "\n",
        "\n",
        "class MaxUnpooling2D(Layer):\n",
        "    def __init__(self, size=(2, 2), **kwargs):\n",
        "        super(MaxUnpooling2D, self).__init__(**kwargs)\n",
        "        self.size = size\n",
        "\n",
        "    def call(self, inputs, output_shape=None):\n",
        "        updates, mask = inputs[0], inputs[1]\n",
        "        with tf.variable_scope(self.name):\n",
        "            mask = K.cast(mask, 'int32')\n",
        "            input_shape = tf.shape(updates, out_type='int32')\n",
        "            #  calculation new shape\n",
        "            if output_shape is None:\n",
        "                output_shape = (\n",
        "                        input_shape[0],\n",
        "                        input_shape[1]*self.size[0],\n",
        "                        input_shape[2]*self.size[1],\n",
        "                        input_shape[3])\n",
        "            self.output_shape1 = output_shape\n",
        "\n",
        "            # calculation indices for batch, height, width and feature maps\n",
        "            one_like_mask = K.ones_like(mask, dtype='int32')\n",
        "            batch_shape = K.concatenate(\n",
        "                    [[input_shape[0]], [1], [1], [1]],\n",
        "                    axis=0)\n",
        "            batch_range = K.reshape(\n",
        "                    tf.range(output_shape[0], dtype='int32'),\n",
        "                    shape=batch_shape)\n",
        "            b = one_like_mask * batch_range\n",
        "            y = mask // (output_shape[2] * output_shape[3])\n",
        "            x = (mask // output_shape[3]) % output_shape[2]\n",
        "            feature_range = tf.range(output_shape[3], dtype='int32')\n",
        "            f = one_like_mask * feature_range\n",
        "\n",
        "            # transpose indices & reshape update values to one dimension\n",
        "            updates_size = tf.size(updates)\n",
        "            indices = K.transpose(K.reshape(\n",
        "                K.stack([b, y, x, f]),\n",
        "                [4, updates_size]))\n",
        "            values = K.reshape(updates, [updates_size])\n",
        "            ret = tf.scatter_nd(indices, values, output_shape)\n",
        "            return ret\n",
        "\n",
        "    def compute_output_shape(self, input_shape):\n",
        "        mask_shape = input_shape[1]\n",
        "        return (\n",
        "                mask_shape[0],\n",
        "                mask_shape[1]*self.size[0],\n",
        "                mask_shape[2]*self.size[1],\n",
        "                mask_shape[3]\n",
        "                )\n"
      ],
      "execution_count": 0,
      "outputs": []
    },
    {
      "cell_type": "code",
      "metadata": {
        "colab_type": "code",
        "cellView": "form",
        "id": "57FIPJ0bYoKD",
        "outputId": "6d47296b-c31a-499b-bc93-0f53e397a665",
        "colab": {
          "base_uri": "https://localhost:8080/",
          "height": 293
        }
      },
      "source": [
        "#@title   training\n",
        "#train.py\n",
        "\n",
        "\n",
        "import pandas as pd\n",
        "import tensorflow.compat.v1 as tf\n",
        "tf.disable_v2_behavior()\n",
        "import keras\n",
        "from keras.models import load_model\n",
        "\n",
        "\n",
        "#from  model import segnet\n",
        "#from generator import data_gen_small\n",
        "\n",
        "\n",
        "def main():\n",
        "    # set the necessary list\n",
        "    train_list = pd.read_csv(\"/content/drive/My Drive/sarseg/Data/complete_dataset/crop/noisy_list.csv\", header=None)\n",
        "    val_list = pd.read_csv(\"/content/drive/My Drive/sarseg/Data/complete_dataset/crop/noisy_list.csv\", header=None)\n",
        "\n",
        "    # set the necessary directories\n",
        "    trainimg_dir = \"/content/drive/My Drive/sarseg/Data/complete_dataset/crop/noisy images/\"\n",
        "    trainmsk_dir = \"/content/drive/My Drive/sarseg/Data/complete_dataset/crop/gt/\"\n",
        "    valimg_dir = \"/content/drive/My Drive/sarseg/Data/complete_dataset/crop/noisy images/\"\n",
        "    valmsk_dir = \"/content/drive/My Drive/sarseg/Data/complete_dataset/crop/gt/\"\n",
        "\n",
        "    train_gen = data_gen_small(trainimg_dir, trainmsk_dir,\n",
        "            train_list, 8,\n",
        "            [512, 512], 2)\n",
        "    val_gen = data_gen_small(valimg_dir, valmsk_dir,\n",
        "            val_list, 8,\n",
        "            [512, 512], 2)\n",
        "\n",
        "    model = keras.models.load_model('/content/drive/My Drive/sarseg/Data/modelout/sar6.h5',\n",
        "                                     custom_objects={'MaxPoolingWithArgmax2D': MaxPoolingWithArgmax2D, 'MaxUnpooling2D':MaxUnpooling2D})\n",
        "    model.load_weights('/content/drive/My Drive/sarseg/Data/modelout/sar6.hdf5')\n",
        "#   print(model.summary())\n",
        "\n",
        "    model.compile(loss=\"categorical_crossentropy\",\n",
        "            optimizer=\"adadelta\", metrics=[\"accuracy\"])\n",
        "    model.fit_generator(train_gen, steps_per_epoch=8,\n",
        "            epochs=8, validation_data=val_gen,\n",
        "            validation_steps=8)\n",
        "\n",
        "    model.save_weights(\"/content/drive/My Drive/sarseg/Data/modelout/\"+\"sar7\"+\".hdf5\")\n",
        "    model.save(\"/content/drive/My Drive/sarseg/Data/modelout/\"+\"sar7\"+\".h5\")\n",
        "    print(\"save weight done..\")\n",
        "\n",
        "\n",
        "if __name__ == \"__main__\":\n",
        "    main()\n"
      ],
      "execution_count": 0,
      "outputs": [
        {
          "output_type": "stream",
          "text": [
            "Epoch 1/8\n",
            "8/8 [==============================] - 950s 119s/step - loss: 0.1035 - accuracy: 0.9697 - val_loss: 0.1655 - val_accuracy: 0.9367\n",
            "Epoch 2/8\n",
            "8/8 [==============================] - 872s 109s/step - loss: 0.0884 - accuracy: 0.9780 - val_loss: 0.1077 - val_accuracy: 0.9504\n",
            "Epoch 3/8\n",
            "8/8 [==============================] - 877s 110s/step - loss: 0.0894 - accuracy: 0.9759 - val_loss: 0.1949 - val_accuracy: 0.9325\n",
            "Epoch 4/8\n",
            "8/8 [==============================] - 874s 109s/step - loss: 0.0881 - accuracy: 0.9760 - val_loss: 0.1121 - val_accuracy: 0.9481\n",
            "Epoch 5/8\n",
            "8/8 [==============================] - 874s 109s/step - loss: 0.0893 - accuracy: 0.9759 - val_loss: 0.0944 - val_accuracy: 0.9543\n",
            "Epoch 6/8\n",
            "8/8 [==============================] - 880s 110s/step - loss: 0.0766 - accuracy: 0.9789 - val_loss: 0.0975 - val_accuracy: 0.9445\n",
            "Epoch 7/8\n",
            "8/8 [==============================] - 878s 110s/step - loss: 0.0733 - accuracy: 0.9809 - val_loss: 0.1406 - val_accuracy: 0.9482\n",
            "Epoch 8/8\n",
            "8/8 [==============================] - 877s 110s/step - loss: 0.0693 - accuracy: 0.9831 - val_loss: 0.0741 - val_accuracy: 0.9487\n",
            "save weight done..\n"
          ],
          "name": "stdout"
        }
      ]
    },
    {
      "cell_type": "code",
      "metadata": {
        "id": "oB6zJPjjHVea",
        "colab_type": "code",
        "cellView": "form",
        "outputId": "124c0873-6611-4c19-c11a-d75f70e44cbf",
        "colab": {
          "base_uri": "https://localhost:8080/",
          "height": 167
        }
      },
      "source": [
        "#@title   loading model\n",
        "\n",
        "import keras\n",
        "import pandas as pd\n",
        "import tensorflow as tf\n",
        "\n",
        "from keras.models import load_model\n",
        "model_test = keras.models.load_model('/content/drive/My Drive/sarseg/Data/modelout/sar6.h5',\n",
        "                                     custom_objects={'MaxPoolingWithArgmax2D': MaxPoolingWithArgmax2D, 'MaxUnpooling2D':MaxUnpooling2D})\n",
        "#model_test = segnet((512, 512 ,3), 2,\n",
        "#          3, (2, 2), \"softmax\")\n",
        "model_test.load_weights('/content/drive/My Drive/sarseg/Data/modelout/sar6.hdf5')\n"
      ],
      "execution_count": 0,
      "outputs": [
        {
          "output_type": "stream",
          "text": [
            "WARNING:tensorflow:From /tensorflow-1.15.2/python3.6/tensorflow_core/python/ops/resource_variable_ops.py:1630: calling BaseResourceVariable.__init__ (from tensorflow.python.ops.resource_variable_ops) with constraint is deprecated and will be removed in a future version.\n",
            "Instructions for updating:\n",
            "If using Keras pass *_constraint arguments to layers.\n",
            "WARNING:tensorflow:From /tensorflow-1.15.2/python3.6/tensorflow_core/python/ops/math_grad.py:1424: where (from tensorflow.python.ops.array_ops) is deprecated and will be removed in a future version.\n",
            "Instructions for updating:\n",
            "Use tf.where in 2.0, which has the same broadcast rule as np.where\n",
            "WARNING:tensorflow:From /usr/local/lib/python3.6/dist-packages/keras/backend/tensorflow_backend.py:422: The name tf.global_variables is deprecated. Please use tf.compat.v1.global_variables instead.\n",
            "\n"
          ],
          "name": "stdout"
        }
      ]
    },
    {
      "cell_type": "code",
      "metadata": {
        "id": "Ryj6KFidCOPx",
        "colab_type": "code",
        "cellView": "form",
        "colab": {}
      },
      "source": [
        "#@title   getting loaded model accuracy\n",
        "\n",
        "\n",
        "val_list = pd.read_csv(\"/content/drive/My Drive/sarseg/Data/complete_dataset/crop/val_list.csv\", header=None)\n",
        "\n",
        "valimg_dir = \"/content/drive/My Drive/sarseg/Data/complete_dataset/crop/images/\"\n",
        "valmsk_dir = \"/content/drive/My Drive/sarseg/Data/complete_dataset/crop/gt/\"\n",
        "\n",
        "val_gen = data_gen_small(valimg_dir, valmsk_dir,\n",
        "             val_list, 1,\n",
        "            [512, 512], 2)\n",
        "\n",
        "model_test.compile(loss=\"categorical_crossentropy\",\n",
        "            optimizer=\"adadelta\", metrics=[\"accuracy\"])\n",
        "score = model_test.evaluate(val_gen, steps = 1)\n",
        "print(\"%s: %.2f%%\" % (model_test.metrics_names[1], score[1]*100))"
      ],
      "execution_count": 0,
      "outputs": []
    },
    {
      "cell_type": "code",
      "metadata": {
        "id": "-vsb_qA0Fjjt",
        "colab_type": "code",
        "cellView": "form",
        "colab": {}
      },
      "source": [
        "#@title predicting output\n",
        "\n",
        "valimg_dir = \"/content/drive/My Drive/sarseg/Data/complete_dataset/\"\n",
        "valmsk_dir = \"/content/drive/My Drive/sarseg/Data/complete_dataset/\"\n",
        "\n",
        "test = np.zeros([1, 512, 512, 3])\n",
        "test_image = cv2.imread(valimg_dir + 'SAR6.jpg')\n",
        "tested = cv2.resize(test_image, (512, 512))\n",
        "test[0] = img_to_array(tested)\n",
        "\n",
        "mask = np.zeros([1, 512, 512, 3])\n",
        "test_image = cv2.imread(valmsk_dir + 'SAR6.jpg')\n",
        "tested = cv2.resize(test_image, (512, 512))\n",
        "array_mask = category_label(tested[:, :, 0], (512, 512, 3), 2)\n",
        "\n",
        "predicted_out = model_test.predict(test)"
      ],
      "execution_count": 0,
      "outputs": []
    },
    {
      "cell_type": "code",
      "metadata": {
        "id": "8Daq4HtxR_xi",
        "colab_type": "code",
        "outputId": "ebf0cc6b-02b0-4601-be65-d4fa47807e1a",
        "colab": {
          "base_uri": "https://localhost:8080/",
          "height": 245
        }
      },
      "source": [
        "print(predicted_out)\n",
        "print(array_mask)"
      ],
      "execution_count": 0,
      "outputs": [
        {
          "output_type": "stream",
          "text": [
            "[[[0.95681393 0.04318608]\n",
            "  [0.96705586 0.03294409]\n",
            "  [0.9691658  0.03083421]\n",
            "  ...\n",
            "  [0.9591624  0.04083755]\n",
            "  [0.958903   0.04109699]\n",
            "  [0.9501279  0.0498721 ]]]\n",
            "[[1. 0.]\n",
            " [1. 0.]\n",
            " [1. 0.]\n",
            " ...\n",
            " [1. 0.]\n",
            " [1. 0.]\n",
            " [1. 0.]]\n"
          ],
          "name": "stdout"
        }
      ]
    },
    {
      "cell_type": "code",
      "metadata": {
        "id": "PvY16ZUT8VPA",
        "colab_type": "code",
        "cellView": "form",
        "colab": {}
      },
      "source": [
        "#@title   making image arrays for matplot\n",
        "\n",
        "array_mask.shape\n",
        "mask = np.zeros([512, 512])\n",
        "for i in range(512):\n",
        "  for j in range(512):\n",
        "    mask[i][j] = array_mask[i*512+j][0];\n",
        "\n",
        "predicted = predicted_out[0]\n",
        "predicted.shape\n",
        "pred = np.zeros([512, 512])\n",
        "for i in range(512):\n",
        "  for j in range(512):\n",
        "    if(predicted[i*512+j][0] > 0.90):\n",
        "      pred[i][j] = 1;\n",
        "    else:\n",
        "      pred[i][j] = 0;  \n"
      ],
      "execution_count": 0,
      "outputs": []
    },
    {
      "cell_type": "code",
      "metadata": {
        "id": "qQnsahgyHvhQ",
        "colab_type": "code",
        "cellView": "form",
        "outputId": "1f95051d-96bd-4165-95b8-5618174400db",
        "colab": {
          "base_uri": "https://localhost:8080/",
          "height": 285
        }
      },
      "source": [
        "#@title   plotting images\n",
        "\n",
        "import matplotlib.pyplot as plt\n",
        "%matplotlib inline\n",
        "\n",
        "fig = plt.figure()\n",
        "ax1 = fig.add_subplot(2, 2, 1)\n",
        "ax1.imshow(test[0].astype(int))\n",
        "ax2 = fig.add_subplot(2, 2, 2)\n",
        "ax2.imshow(mask, cmap= 'Greys')\n",
        "ax3 = fig.add_subplot(2, 2, 3)\n",
        "ax3.imshow(pred, cmap= 'Greys')"
      ],
      "execution_count": 0,
      "outputs": [
        {
          "output_type": "execute_result",
          "data": {
            "text/plain": [
              "<matplotlib.image.AxesImage at 0x7f6562ac19b0>"
            ]
          },
          "metadata": {
            "tags": []
          },
          "execution_count": 31
        },
        {
          "output_type": "display_data",
          "data": {
            "image/png": "[encoded data removed]",
            "text/plain": [
              "<Figure size 432x288 with 3 Axes>"
            ]
          },
          "metadata": {
            "tags": [],
            "needs_background": "light"
          }
        }
      ]
    },
    {
      "cell_type": "code",
      "metadata": {
        "id": "qD69rsTR3fy-",
        "colab_type": "code",
        "cellView": "form",
        "outputId": "f1fd5925-dee2-4983-d384-459113112289",
        "colab": {
          "base_uri": "https://localhost:8080/",
          "height": 33
        }
      },
      "source": [
        "#@title   printing custom prediction accuracy\n",
        "\n",
        "from keras import backend as K\n",
        "total = 512*512\n",
        "intersection = 0\n",
        "for i in range(512):\n",
        "  for j in range(512):\n",
        "    if( mask[i][j] == pred[i][j] ):\n",
        "        intersection = intersection + 1 \n",
        "    \n",
        "print(intersection/total)"
      ],
      "execution_count": 0,
      "outputs": [
        {
          "output_type": "stream",
          "text": [
            "0.8409233093261719\n"
          ],
          "name": "stdout"
        }
      ]
    }
  ]
}